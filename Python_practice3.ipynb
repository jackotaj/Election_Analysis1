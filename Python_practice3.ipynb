{
 "cells": [
  {
   "cell_type": "code",
   "execution_count": null,
   "metadata": {},
   "outputs": [],
   "source": [
    "counties = [\"Arapahoe\",\"Denver\",\"Jefferson\"]\n",
    "if counties[1] == 'Denver':\n",
    "    print(counties[1])"
   ]
  },
  {
   "cell_type": "code",
   "execution_count": null,
   "metadata": {},
   "outputs": [],
   "source": [
    "counties_tuple = (\"Arapahoe\", \"Denver\", \"Jefferson\")"
   ]
  },
  {
   "cell_type": "code",
   "execution_count": null,
   "metadata": {},
   "outputs": [],
   "source": [
    "len(counties_tuple)"
   ]
  },
  {
   "cell_type": "code",
   "execution_count": null,
   "metadata": {},
   "outputs": [],
   "source": [
    "temperature = int(input(\"What is the temperature outside? \"))\n",
    "\n",
    "if temperature > 80:\n",
    "    print(\"Turn on the AC. \")\n",
    "else:\n",
    "    print(\"Open the windows. \")\n",
    "    "
   ]
  },
  {
   "cell_type": "code",
   "execution_count": null,
   "metadata": {},
   "outputs": [],
   "source": [
    "#What is the score? \n",
    "score = int(input(\"What is your test score? \"))\n",
    "\n",
    "# Determine the grade. \n",
    "if score >= 90:\n",
    "    print('Your grade is a A.')\n",
    "elif score >= 80:\n",
    "    print('Your grade is a B.')\n",
    "elif score >= 70:\n",
    "    print('Your grade is a C.')\n",
    "elif score >= 60:\n",
    "    print('Your grade is a D.')\n",
    "else:\n",
    "    print('Your grade is an F.')\n",
    "            "
   ]
  },
  {
   "cell_type": "code",
   "execution_count": null,
   "metadata": {},
   "outputs": [],
   "source": [
    "counties_tuple"
   ]
  },
  {
   "cell_type": "code",
   "execution_count": null,
   "metadata": {
    "jupyter": {
     "source_hidden": true
    }
   },
   "outputs": [],
   "source": [
    "counties = [\"Arapahoe\",\"Denver\",\"Jefferson\"]\n",
    "if \"El Paso\" in counties:\n",
    "    print(\"El Paso is in the list of counties.\")\n",
    "else:\n",
    "    print(\"El Paso is not in the list of counties.\")"
   ]
  },
  {
   "cell_type": "code",
   "execution_count": null,
   "metadata": {},
   "outputs": [],
   "source": [
    "if \"Arapahoe\" in counties and \"El Paso\" in counties:\n",
    "    print(\"Arapahoe and El Paso are in the list of counties.\")\n",
    "else:\n",
    "    print(\"Arapahoe or El Paso is not in the list of counties.\")"
   ]
  },
  {
   "cell_type": "code",
   "execution_count": null,
   "metadata": {},
   "outputs": [],
   "source": [
    "if \"Arapahoe\" in counties and \"El Paso\" not in counties:\n",
    "   print(\"Only Arapahoe is in the list of counties.\")\n",
    "else:\n",
    "    print(\"Arapahoe is in the list of counties and El Paso is not in the list of counties.\")"
   ]
  },
  {
   "cell_type": "code",
   "execution_count": null,
   "metadata": {},
   "outputs": [],
   "source": [
    "x = 0\n",
    "while x <= 5:\n",
    "    print(x)\n",
    "    x = x + 1"
   ]
  },
  {
   "cell_type": "code",
   "execution_count": null,
   "metadata": {},
   "outputs": [],
   "source": [
    "for county in counties:\n",
    "    print(county)"
   ]
  },
  {
   "cell_type": "code",
   "execution_count": null,
   "metadata": {},
   "outputs": [],
   "source": [
    "numbers = [0,1,2,3,4]\n",
    "for num in numbers:\n",
    "    print(num)"
   ]
  },
  {
   "cell_type": "code",
   "execution_count": null,
   "metadata": {},
   "outputs": [],
   "source": [
    "for num in range(5):\n",
    "    print(num)"
   ]
  },
  {
   "cell_type": "code",
   "execution_count": null,
   "metadata": {},
   "outputs": [],
   "source": [
    "for i in range(len(counties)):\n",
    "    print(counties[i])"
   ]
  },
  {
   "cell_type": "code",
   "execution_count": null,
   "metadata": {},
   "outputs": [],
   "source": [
    "for county in counties_dict:\n",
    "    print(county)"
   ]
  },
  {
   "cell_type": "code",
   "execution_count": null,
   "metadata": {},
   "outputs": [],
   "source": []
  }
 ],
 "metadata": {
  "kernelspec": {
   "display_name": "Python 3",
   "language": "python",
   "name": "python3"
  },
  "language_info": {
   "codemirror_mode": {
    "name": "ipython",
    "version": 3
   },
   "file_extension": ".py",
   "mimetype": "text/x-python",
   "name": "python",
   "nbconvert_exporter": "python",
   "pygments_lexer": "ipython3",
   "version": "3.8.5"
  }
 },
 "nbformat": 4,
 "nbformat_minor": 4
}

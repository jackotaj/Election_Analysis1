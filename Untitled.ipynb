{
 "cells": [
  {
   "cell_type": "code",
   "execution_count": 2,
   "metadata": {},
   "outputs": [
    {
     "name": "stdin",
     "output_type": "stream",
     "text": [
      "How many votes did you get in the election?  2000\n",
      "What is the total votes in the election?  3800\n"
     ]
    },
    {
     "name": "stdout",
     "output_type": "stream",
     "text": [
      "I received 52.63157894736842% of the total votes.\n"
     ]
    }
   ],
   "source": [
    "# How many votes did you get?\n",
    "my_votes = int(input(\"How many votes did you get in the election? \"))\n",
    "#Total votes in the election\n",
    "total_votes = int(input(\"What is the total votes in the election? \"))\n",
    "#Calculate the percentage of votes you received. \n",
    "percentage_votes = (my_votes / total_votes) * 100\n",
    "print(\"I received \" + str(percentage_votes)+\"% of the total votes.\")"
   ]
  },
  {
   "cell_type": "code",
   "execution_count": null,
   "metadata": {},
   "outputs": [],
   "source": []
  }
 ],
 "metadata": {
  "kernelspec": {
   "display_name": "Python 3",
   "language": "python",
   "name": "python3"
  },
  "language_info": {
   "codemirror_mode": {
    "name": "ipython",
    "version": 3
   },
   "file_extension": ".py",
   "mimetype": "text/x-python",
   "name": "python",
   "nbconvert_exporter": "python",
   "pygments_lexer": "ipython3",
   "version": "3.8.5"
  }
 },
 "nbformat": 4,
 "nbformat_minor": 4
}
